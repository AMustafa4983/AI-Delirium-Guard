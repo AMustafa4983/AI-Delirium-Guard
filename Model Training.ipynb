{
 "cells": [
  {
   "cell_type": "code",
   "execution_count": 1,
   "id": "ad942344-d43b-43a9-8d9b-ac4663fd488d",
   "metadata": {},
   "outputs": [],
   "source": [
    "import pandas as pd\n",
    "import numpy as np"
   ]
  },
  {
   "cell_type": "code",
   "execution_count": 2,
   "id": "30d51d45-8c43-409e-9a0e-be7ed05f4c16",
   "metadata": {},
   "outputs": [],
   "source": [
    "df = pd.read_csv('/home/abdelrahman/Desktop/Dr. Sri/final_preprocessed_dataset_for_postoperative.csv')"
   ]
  },
  {
   "cell_type": "code",
   "execution_count": 3,
   "id": "c6d36906-7160-409d-90b3-1748e32f66fd",
   "metadata": {},
   "outputs": [
    {
     "data": {
      "text/html": [
       "<div>\n",
       "<style scoped>\n",
       "    .dataframe tbody tr th:only-of-type {\n",
       "        vertical-align: middle;\n",
       "    }\n",
       "\n",
       "    .dataframe tbody tr th {\n",
       "        vertical-align: top;\n",
       "    }\n",
       "\n",
       "    .dataframe thead th {\n",
       "        text-align: right;\n",
       "    }\n",
       "</style>\n",
       "<table border=\"1\" class=\"dataframe\">\n",
       "  <thead>\n",
       "    <tr style=\"text-align: right;\">\n",
       "      <th></th>\n",
       "      <th>Unnamed: 0</th>\n",
       "      <th>sex</th>\n",
       "      <th>inout</th>\n",
       "      <th>transt</th>\n",
       "      <th>age</th>\n",
       "      <th>dischdest</th>\n",
       "      <th>anesthes</th>\n",
       "      <th>surgspec</th>\n",
       "      <th>electsurg</th>\n",
       "      <th>height</th>\n",
       "      <th>...</th>\n",
       "      <th>steroid</th>\n",
       "      <th>wndclas</th>\n",
       "      <th>prsepis</th>\n",
       "      <th>dprna</th>\n",
       "      <th>dpralbum</th>\n",
       "      <th>dprhct</th>\n",
       "      <th>emergncy</th>\n",
       "      <th>optime</th>\n",
       "      <th>drenainsf</th>\n",
       "      <th>asaclas</th>\n",
       "    </tr>\n",
       "  </thead>\n",
       "  <tbody>\n",
       "    <tr>\n",
       "      <th>0</th>\n",
       "      <td>60750</td>\n",
       "      <td>0</td>\n",
       "      <td>0</td>\n",
       "      <td>0</td>\n",
       "      <td>59</td>\n",
       "      <td>0</td>\n",
       "      <td>0</td>\n",
       "      <td>0</td>\n",
       "      <td>1</td>\n",
       "      <td>70</td>\n",
       "      <td>...</td>\n",
       "      <td>0</td>\n",
       "      <td>0</td>\n",
       "      <td>0</td>\n",
       "      <td>7</td>\n",
       "      <td>0</td>\n",
       "      <td>7</td>\n",
       "      <td>0</td>\n",
       "      <td>165</td>\n",
       "      <td>0</td>\n",
       "      <td>1</td>\n",
       "    </tr>\n",
       "    <tr>\n",
       "      <th>1</th>\n",
       "      <td>65229</td>\n",
       "      <td>0</td>\n",
       "      <td>0</td>\n",
       "      <td>0</td>\n",
       "      <td>77</td>\n",
       "      <td>0</td>\n",
       "      <td>0</td>\n",
       "      <td>1</td>\n",
       "      <td>1</td>\n",
       "      <td>70</td>\n",
       "      <td>...</td>\n",
       "      <td>0</td>\n",
       "      <td>1</td>\n",
       "      <td>0</td>\n",
       "      <td>17</td>\n",
       "      <td>17</td>\n",
       "      <td>17</td>\n",
       "      <td>0</td>\n",
       "      <td>98</td>\n",
       "      <td>0</td>\n",
       "      <td>1</td>\n",
       "    </tr>\n",
       "    <tr>\n",
       "      <th>2</th>\n",
       "      <td>24273</td>\n",
       "      <td>0</td>\n",
       "      <td>0</td>\n",
       "      <td>0</td>\n",
       "      <td>64</td>\n",
       "      <td>0</td>\n",
       "      <td>0</td>\n",
       "      <td>2</td>\n",
       "      <td>1</td>\n",
       "      <td>70</td>\n",
       "      <td>...</td>\n",
       "      <td>0</td>\n",
       "      <td>0</td>\n",
       "      <td>0</td>\n",
       "      <td>4</td>\n",
       "      <td>4</td>\n",
       "      <td>4</td>\n",
       "      <td>0</td>\n",
       "      <td>79</td>\n",
       "      <td>0</td>\n",
       "      <td>1</td>\n",
       "    </tr>\n",
       "    <tr>\n",
       "      <th>3</th>\n",
       "      <td>58641</td>\n",
       "      <td>0</td>\n",
       "      <td>0</td>\n",
       "      <td>0</td>\n",
       "      <td>48</td>\n",
       "      <td>0</td>\n",
       "      <td>0</td>\n",
       "      <td>3</td>\n",
       "      <td>0</td>\n",
       "      <td>67</td>\n",
       "      <td>...</td>\n",
       "      <td>0</td>\n",
       "      <td>1</td>\n",
       "      <td>0</td>\n",
       "      <td>0</td>\n",
       "      <td>3</td>\n",
       "      <td>0</td>\n",
       "      <td>0</td>\n",
       "      <td>265</td>\n",
       "      <td>0</td>\n",
       "      <td>1</td>\n",
       "    </tr>\n",
       "    <tr>\n",
       "      <th>4</th>\n",
       "      <td>74113</td>\n",
       "      <td>0</td>\n",
       "      <td>1</td>\n",
       "      <td>0</td>\n",
       "      <td>76</td>\n",
       "      <td>0</td>\n",
       "      <td>0</td>\n",
       "      <td>2</td>\n",
       "      <td>1</td>\n",
       "      <td>74</td>\n",
       "      <td>...</td>\n",
       "      <td>0</td>\n",
       "      <td>1</td>\n",
       "      <td>0</td>\n",
       "      <td>12</td>\n",
       "      <td>0</td>\n",
       "      <td>0</td>\n",
       "      <td>0</td>\n",
       "      <td>132</td>\n",
       "      <td>0</td>\n",
       "      <td>1</td>\n",
       "    </tr>\n",
       "  </tbody>\n",
       "</table>\n",
       "<p>5 rows × 26 columns</p>\n",
       "</div>"
      ],
      "text/plain": [
       "   Unnamed: 0  sex  inout  transt  age  dischdest  anesthes  surgspec  \\\n",
       "0       60750    0      0       0   59          0         0         0   \n",
       "1       65229    0      0       0   77          0         0         1   \n",
       "2       24273    0      0       0   64          0         0         2   \n",
       "3       58641    0      0       0   48          0         0         3   \n",
       "4       74113    0      1       0   76          0         0         2   \n",
       "\n",
       "  electsurg  height  ...  steroid  wndclas  prsepis  dprna  dpralbum  dprhct  \\\n",
       "0         1      70  ...        0        0        0      7         0       7   \n",
       "1         1      70  ...        0        1        0     17        17      17   \n",
       "2         1      70  ...        0        0        0      4         4       4   \n",
       "3         0      67  ...        0        1        0      0         3       0   \n",
       "4         1      74  ...        0        1        0     12         0       0   \n",
       "\n",
       "   emergncy  optime  drenainsf  asaclas  \n",
       "0         0     165          0        1  \n",
       "1         0      98          0        1  \n",
       "2         0      79          0        1  \n",
       "3         0     265          0        1  \n",
       "4         0     132          0        1  \n",
       "\n",
       "[5 rows x 26 columns]"
      ]
     },
     "execution_count": 3,
     "metadata": {},
     "output_type": "execute_result"
    }
   ],
   "source": [
    "df.head()"
   ]
  },
  {
   "cell_type": "code",
   "execution_count": 4,
   "id": "92f2c11e-0ae4-4d48-b32e-f55a2e4b8f1d",
   "metadata": {},
   "outputs": [
    {
     "name": "stdout",
     "output_type": "stream",
     "text": [
      "<class 'pandas.core.frame.DataFrame'>\n",
      "RangeIndex: 17000 entries, 0 to 16999\n",
      "Data columns (total 26 columns):\n",
      " #   Column      Non-Null Count  Dtype \n",
      "---  ------      --------------  ----- \n",
      " 0   Unnamed: 0  17000 non-null  int64 \n",
      " 1   sex         17000 non-null  int64 \n",
      " 2   inout       17000 non-null  int64 \n",
      " 3   transt      17000 non-null  int64 \n",
      " 4   age         17000 non-null  int64 \n",
      " 5   dischdest   17000 non-null  int64 \n",
      " 6   anesthes    17000 non-null  int64 \n",
      " 7   surgspec    17000 non-null  int64 \n",
      " 8   electsurg   17000 non-null  object\n",
      " 9   height      17000 non-null  int64 \n",
      " 10  weight      17000 non-null  int64 \n",
      " 11  diabetes    17000 non-null  int64 \n",
      " 12  smoke       17000 non-null  int64 \n",
      " 13  dyspnea     17000 non-null  int64 \n",
      " 14  discancr    17000 non-null  int64 \n",
      " 15  wndinf      17000 non-null  int64 \n",
      " 16  steroid     17000 non-null  int64 \n",
      " 17  wndclas     17000 non-null  int64 \n",
      " 18  prsepis     17000 non-null  int64 \n",
      " 19  dprna       17000 non-null  int64 \n",
      " 20  dpralbum    17000 non-null  int64 \n",
      " 21  dprhct      17000 non-null  int64 \n",
      " 22  emergncy    17000 non-null  int64 \n",
      " 23  optime      17000 non-null  int64 \n",
      " 24  drenainsf   17000 non-null  int64 \n",
      " 25  asaclas     17000 non-null  int64 \n",
      "dtypes: int64(25), object(1)\n",
      "memory usage: 3.4+ MB\n"
     ]
    }
   ],
   "source": [
    "df.info()"
   ]
  },
  {
   "cell_type": "code",
   "execution_count": 5,
   "id": "ca790ef4-e43e-4555-a12c-323dc8f5f955",
   "metadata": {},
   "outputs": [],
   "source": [
    "df.drop('Unnamed: 0', axis=1, inplace=True)"
   ]
  },
  {
   "cell_type": "code",
   "execution_count": 6,
   "id": "5469cf51-7eed-4ce5-b544-692407c01b63",
   "metadata": {},
   "outputs": [],
   "source": [
    "indx = df[df['electsurg']=='Unknown'].index\n",
    "\n",
    "df.drop(indx, axis=0, inplace=True)"
   ]
  },
  {
   "cell_type": "code",
   "execution_count": 7,
   "id": "7a526b75-c7e4-4c99-a12f-85ffb120da9f",
   "metadata": {},
   "outputs": [],
   "source": [
    "no = df[df['asaclas']==0].sample(6000)\n",
    "yes = df[df['asaclas']==1].sample(6000)"
   ]
  },
  {
   "cell_type": "code",
   "execution_count": 8,
   "id": "1f9c7e2a-15ed-40d7-b28f-01da4ce0c5d4",
   "metadata": {},
   "outputs": [],
   "source": [
    "df = pd.concat([no,yes])"
   ]
  },
  {
   "cell_type": "code",
   "execution_count": 9,
   "id": "c6f14836-f044-4616-9c9f-497d18bc584b",
   "metadata": {},
   "outputs": [],
   "source": [
    "def normalize(x):\n",
    "    return (x-np.min(x))/(np.max(x)-np.min(x))"
   ]
  },
  {
   "cell_type": "code",
   "execution_count": 10,
   "id": "8c2c00e1-f856-4821-b54e-1e6d2fdbb2f9",
   "metadata": {},
   "outputs": [],
   "source": [
    "for i in df.columns:\n",
    "    df[i] = normalize(df[i].astype('int'))"
   ]
  },
  {
   "cell_type": "code",
   "execution_count": 11,
   "id": "e22cc34d-696c-4808-97f2-1a71431963e7",
   "metadata": {},
   "outputs": [],
   "source": [
    "X = df.drop('asaclas', axis=1)\n",
    "y = df['asaclas']"
   ]
  },
  {
   "cell_type": "code",
   "execution_count": 12,
   "id": "4c8c95fc-f5db-4656-95b9-d947d71cce96",
   "metadata": {},
   "outputs": [],
   "source": [
    "from sklearn.model_selection import train_test_split\n",
    "\n",
    "X_train, X_test, y_train, y_test = train_test_split(X, y, test_size=0.2, random_state=42, shuffle=True)"
   ]
  },
  {
   "cell_type": "code",
   "execution_count": 13,
   "id": "a994b247-f69e-4574-bbe8-d36aca1d4950",
   "metadata": {},
   "outputs": [
    {
     "data": {
      "text/plain": [
       "asaclas\n",
       "1.0    4836\n",
       "0.0    4764\n",
       "Name: count, dtype: int64"
      ]
     },
     "execution_count": 13,
     "metadata": {},
     "output_type": "execute_result"
    }
   ],
   "source": [
    "y_train.value_counts()"
   ]
  },
  {
   "cell_type": "code",
   "execution_count": 14,
   "id": "c04b4466-b3ad-460f-9aa4-17486a7bed58",
   "metadata": {},
   "outputs": [
    {
     "data": {
      "text/html": [
       "<div>\n",
       "<style scoped>\n",
       "    .dataframe tbody tr th:only-of-type {\n",
       "        vertical-align: middle;\n",
       "    }\n",
       "\n",
       "    .dataframe tbody tr th {\n",
       "        vertical-align: top;\n",
       "    }\n",
       "\n",
       "    .dataframe thead th {\n",
       "        text-align: right;\n",
       "    }\n",
       "</style>\n",
       "<table border=\"1\" class=\"dataframe\">\n",
       "  <thead>\n",
       "    <tr style=\"text-align: right;\">\n",
       "      <th></th>\n",
       "      <th>sex</th>\n",
       "      <th>inout</th>\n",
       "      <th>transt</th>\n",
       "      <th>age</th>\n",
       "      <th>dischdest</th>\n",
       "      <th>anesthes</th>\n",
       "      <th>surgspec</th>\n",
       "      <th>electsurg</th>\n",
       "      <th>height</th>\n",
       "      <th>weight</th>\n",
       "      <th>...</th>\n",
       "      <th>wndinf</th>\n",
       "      <th>steroid</th>\n",
       "      <th>wndclas</th>\n",
       "      <th>prsepis</th>\n",
       "      <th>dprna</th>\n",
       "      <th>dpralbum</th>\n",
       "      <th>dprhct</th>\n",
       "      <th>emergncy</th>\n",
       "      <th>optime</th>\n",
       "      <th>drenainsf</th>\n",
       "    </tr>\n",
       "  </thead>\n",
       "  <tbody>\n",
       "    <tr>\n",
       "      <th>7676</th>\n",
       "      <td>1.0</td>\n",
       "      <td>0.0</td>\n",
       "      <td>0.0</td>\n",
       "      <td>0.583333</td>\n",
       "      <td>0.000000</td>\n",
       "      <td>0.000000</td>\n",
       "      <td>0.222222</td>\n",
       "      <td>0.0</td>\n",
       "      <td>0.685185</td>\n",
       "      <td>0.144788</td>\n",
       "      <td>...</td>\n",
       "      <td>0.0</td>\n",
       "      <td>0.0</td>\n",
       "      <td>0.000000</td>\n",
       "      <td>0.0</td>\n",
       "      <td>0.011111</td>\n",
       "      <td>0.055556</td>\n",
       "      <td>0.011111</td>\n",
       "      <td>0.0</td>\n",
       "      <td>0.077527</td>\n",
       "      <td>0.0</td>\n",
       "    </tr>\n",
       "    <tr>\n",
       "      <th>8457</th>\n",
       "      <td>1.0</td>\n",
       "      <td>0.0</td>\n",
       "      <td>0.0</td>\n",
       "      <td>0.694444</td>\n",
       "      <td>0.000000</td>\n",
       "      <td>0.000000</td>\n",
       "      <td>0.222222</td>\n",
       "      <td>1.0</td>\n",
       "      <td>0.648148</td>\n",
       "      <td>0.256757</td>\n",
       "      <td>...</td>\n",
       "      <td>0.0</td>\n",
       "      <td>0.0</td>\n",
       "      <td>0.000000</td>\n",
       "      <td>0.0</td>\n",
       "      <td>0.122222</td>\n",
       "      <td>0.122222</td>\n",
       "      <td>0.122222</td>\n",
       "      <td>0.0</td>\n",
       "      <td>0.273798</td>\n",
       "      <td>0.0</td>\n",
       "    </tr>\n",
       "    <tr>\n",
       "      <th>3917</th>\n",
       "      <td>1.0</td>\n",
       "      <td>0.0</td>\n",
       "      <td>0.0</td>\n",
       "      <td>0.611111</td>\n",
       "      <td>0.666667</td>\n",
       "      <td>0.000000</td>\n",
       "      <td>0.333333</td>\n",
       "      <td>0.0</td>\n",
       "      <td>0.648148</td>\n",
       "      <td>0.330116</td>\n",
       "      <td>...</td>\n",
       "      <td>0.0</td>\n",
       "      <td>0.0</td>\n",
       "      <td>0.333333</td>\n",
       "      <td>0.0</td>\n",
       "      <td>0.011111</td>\n",
       "      <td>0.388889</td>\n",
       "      <td>0.011111</td>\n",
       "      <td>0.0</td>\n",
       "      <td>0.152110</td>\n",
       "      <td>0.0</td>\n",
       "    </tr>\n",
       "    <tr>\n",
       "      <th>4270</th>\n",
       "      <td>1.0</td>\n",
       "      <td>0.0</td>\n",
       "      <td>0.0</td>\n",
       "      <td>0.819444</td>\n",
       "      <td>0.000000</td>\n",
       "      <td>0.666667</td>\n",
       "      <td>0.111111</td>\n",
       "      <td>1.0</td>\n",
       "      <td>0.666667</td>\n",
       "      <td>0.223938</td>\n",
       "      <td>...</td>\n",
       "      <td>0.0</td>\n",
       "      <td>0.0</td>\n",
       "      <td>0.333333</td>\n",
       "      <td>0.0</td>\n",
       "      <td>0.166667</td>\n",
       "      <td>0.166667</td>\n",
       "      <td>0.166667</td>\n",
       "      <td>0.0</td>\n",
       "      <td>0.093229</td>\n",
       "      <td>0.0</td>\n",
       "    </tr>\n",
       "    <tr>\n",
       "      <th>4325</th>\n",
       "      <td>1.0</td>\n",
       "      <td>0.0</td>\n",
       "      <td>0.0</td>\n",
       "      <td>0.791667</td>\n",
       "      <td>0.000000</td>\n",
       "      <td>0.666667</td>\n",
       "      <td>0.111111</td>\n",
       "      <td>1.0</td>\n",
       "      <td>0.666667</td>\n",
       "      <td>0.111969</td>\n",
       "      <td>...</td>\n",
       "      <td>0.0</td>\n",
       "      <td>0.0</td>\n",
       "      <td>0.333333</td>\n",
       "      <td>0.0</td>\n",
       "      <td>0.000000</td>\n",
       "      <td>0.000000</td>\n",
       "      <td>0.000000</td>\n",
       "      <td>0.0</td>\n",
       "      <td>0.083415</td>\n",
       "      <td>0.0</td>\n",
       "    </tr>\n",
       "    <tr>\n",
       "      <th>...</th>\n",
       "      <td>...</td>\n",
       "      <td>...</td>\n",
       "      <td>...</td>\n",
       "      <td>...</td>\n",
       "      <td>...</td>\n",
       "      <td>...</td>\n",
       "      <td>...</td>\n",
       "      <td>...</td>\n",
       "      <td>...</td>\n",
       "      <td>...</td>\n",
       "      <td>...</td>\n",
       "      <td>...</td>\n",
       "      <td>...</td>\n",
       "      <td>...</td>\n",
       "      <td>...</td>\n",
       "      <td>...</td>\n",
       "      <td>...</td>\n",
       "      <td>...</td>\n",
       "      <td>...</td>\n",
       "      <td>...</td>\n",
       "      <td>...</td>\n",
       "    </tr>\n",
       "    <tr>\n",
       "      <th>1952</th>\n",
       "      <td>0.0</td>\n",
       "      <td>1.0</td>\n",
       "      <td>0.0</td>\n",
       "      <td>0.708333</td>\n",
       "      <td>0.000000</td>\n",
       "      <td>0.000000</td>\n",
       "      <td>0.222222</td>\n",
       "      <td>1.0</td>\n",
       "      <td>0.759259</td>\n",
       "      <td>0.380309</td>\n",
       "      <td>...</td>\n",
       "      <td>0.0</td>\n",
       "      <td>0.0</td>\n",
       "      <td>0.333333</td>\n",
       "      <td>0.0</td>\n",
       "      <td>0.233333</td>\n",
       "      <td>0.233333</td>\n",
       "      <td>0.233333</td>\n",
       "      <td>0.0</td>\n",
       "      <td>0.063788</td>\n",
       "      <td>0.0</td>\n",
       "    </tr>\n",
       "    <tr>\n",
       "      <th>6986</th>\n",
       "      <td>1.0</td>\n",
       "      <td>1.0</td>\n",
       "      <td>0.0</td>\n",
       "      <td>0.486111</td>\n",
       "      <td>0.000000</td>\n",
       "      <td>0.000000</td>\n",
       "      <td>0.222222</td>\n",
       "      <td>1.0</td>\n",
       "      <td>0.666667</td>\n",
       "      <td>0.241313</td>\n",
       "      <td>...</td>\n",
       "      <td>0.0</td>\n",
       "      <td>0.0</td>\n",
       "      <td>0.333333</td>\n",
       "      <td>0.0</td>\n",
       "      <td>0.188889</td>\n",
       "      <td>0.188889</td>\n",
       "      <td>0.188889</td>\n",
       "      <td>0.0</td>\n",
       "      <td>0.069676</td>\n",
       "      <td>0.0</td>\n",
       "    </tr>\n",
       "    <tr>\n",
       "      <th>2946</th>\n",
       "      <td>0.0</td>\n",
       "      <td>1.0</td>\n",
       "      <td>0.0</td>\n",
       "      <td>0.722222</td>\n",
       "      <td>0.000000</td>\n",
       "      <td>0.000000</td>\n",
       "      <td>0.111111</td>\n",
       "      <td>1.0</td>\n",
       "      <td>0.740741</td>\n",
       "      <td>0.202703</td>\n",
       "      <td>...</td>\n",
       "      <td>0.0</td>\n",
       "      <td>0.0</td>\n",
       "      <td>0.333333</td>\n",
       "      <td>0.0</td>\n",
       "      <td>0.000000</td>\n",
       "      <td>0.000000</td>\n",
       "      <td>0.011111</td>\n",
       "      <td>0.0</td>\n",
       "      <td>0.103042</td>\n",
       "      <td>0.0</td>\n",
       "    </tr>\n",
       "    <tr>\n",
       "      <th>2792</th>\n",
       "      <td>1.0</td>\n",
       "      <td>1.0</td>\n",
       "      <td>0.0</td>\n",
       "      <td>0.652778</td>\n",
       "      <td>0.000000</td>\n",
       "      <td>0.666667</td>\n",
       "      <td>1.000000</td>\n",
       "      <td>1.0</td>\n",
       "      <td>0.703704</td>\n",
       "      <td>0.164093</td>\n",
       "      <td>...</td>\n",
       "      <td>0.0</td>\n",
       "      <td>0.0</td>\n",
       "      <td>0.000000</td>\n",
       "      <td>0.0</td>\n",
       "      <td>0.277778</td>\n",
       "      <td>0.277778</td>\n",
       "      <td>0.277778</td>\n",
       "      <td>0.0</td>\n",
       "      <td>0.093229</td>\n",
       "      <td>0.0</td>\n",
       "    </tr>\n",
       "    <tr>\n",
       "      <th>2087</th>\n",
       "      <td>0.0</td>\n",
       "      <td>0.0</td>\n",
       "      <td>0.0</td>\n",
       "      <td>0.527778</td>\n",
       "      <td>0.000000</td>\n",
       "      <td>0.000000</td>\n",
       "      <td>0.111111</td>\n",
       "      <td>1.0</td>\n",
       "      <td>0.777778</td>\n",
       "      <td>0.351351</td>\n",
       "      <td>...</td>\n",
       "      <td>0.0</td>\n",
       "      <td>0.0</td>\n",
       "      <td>0.333333</td>\n",
       "      <td>0.0</td>\n",
       "      <td>0.000000</td>\n",
       "      <td>0.277778</td>\n",
       "      <td>0.000000</td>\n",
       "      <td>0.0</td>\n",
       "      <td>0.090285</td>\n",
       "      <td>0.0</td>\n",
       "    </tr>\n",
       "  </tbody>\n",
       "</table>\n",
       "<p>9600 rows × 24 columns</p>\n",
       "</div>"
      ],
      "text/plain": [
       "      sex  inout  transt       age  dischdest  anesthes  surgspec  electsurg  \\\n",
       "7676  1.0    0.0     0.0  0.583333   0.000000  0.000000  0.222222        0.0   \n",
       "8457  1.0    0.0     0.0  0.694444   0.000000  0.000000  0.222222        1.0   \n",
       "3917  1.0    0.0     0.0  0.611111   0.666667  0.000000  0.333333        0.0   \n",
       "4270  1.0    0.0     0.0  0.819444   0.000000  0.666667  0.111111        1.0   \n",
       "4325  1.0    0.0     0.0  0.791667   0.000000  0.666667  0.111111        1.0   \n",
       "...   ...    ...     ...       ...        ...       ...       ...        ...   \n",
       "1952  0.0    1.0     0.0  0.708333   0.000000  0.000000  0.222222        1.0   \n",
       "6986  1.0    1.0     0.0  0.486111   0.000000  0.000000  0.222222        1.0   \n",
       "2946  0.0    1.0     0.0  0.722222   0.000000  0.000000  0.111111        1.0   \n",
       "2792  1.0    1.0     0.0  0.652778   0.000000  0.666667  1.000000        1.0   \n",
       "2087  0.0    0.0     0.0  0.527778   0.000000  0.000000  0.111111        1.0   \n",
       "\n",
       "        height    weight  ...  wndinf  steroid   wndclas  prsepis     dprna  \\\n",
       "7676  0.685185  0.144788  ...     0.0      0.0  0.000000      0.0  0.011111   \n",
       "8457  0.648148  0.256757  ...     0.0      0.0  0.000000      0.0  0.122222   \n",
       "3917  0.648148  0.330116  ...     0.0      0.0  0.333333      0.0  0.011111   \n",
       "4270  0.666667  0.223938  ...     0.0      0.0  0.333333      0.0  0.166667   \n",
       "4325  0.666667  0.111969  ...     0.0      0.0  0.333333      0.0  0.000000   \n",
       "...        ...       ...  ...     ...      ...       ...      ...       ...   \n",
       "1952  0.759259  0.380309  ...     0.0      0.0  0.333333      0.0  0.233333   \n",
       "6986  0.666667  0.241313  ...     0.0      0.0  0.333333      0.0  0.188889   \n",
       "2946  0.740741  0.202703  ...     0.0      0.0  0.333333      0.0  0.000000   \n",
       "2792  0.703704  0.164093  ...     0.0      0.0  0.000000      0.0  0.277778   \n",
       "2087  0.777778  0.351351  ...     0.0      0.0  0.333333      0.0  0.000000   \n",
       "\n",
       "      dpralbum    dprhct  emergncy    optime  drenainsf  \n",
       "7676  0.055556  0.011111       0.0  0.077527        0.0  \n",
       "8457  0.122222  0.122222       0.0  0.273798        0.0  \n",
       "3917  0.388889  0.011111       0.0  0.152110        0.0  \n",
       "4270  0.166667  0.166667       0.0  0.093229        0.0  \n",
       "4325  0.000000  0.000000       0.0  0.083415        0.0  \n",
       "...        ...       ...       ...       ...        ...  \n",
       "1952  0.233333  0.233333       0.0  0.063788        0.0  \n",
       "6986  0.188889  0.188889       0.0  0.069676        0.0  \n",
       "2946  0.000000  0.011111       0.0  0.103042        0.0  \n",
       "2792  0.277778  0.277778       0.0  0.093229        0.0  \n",
       "2087  0.277778  0.000000       0.0  0.090285        0.0  \n",
       "\n",
       "[9600 rows x 24 columns]"
      ]
     },
     "execution_count": 14,
     "metadata": {},
     "output_type": "execute_result"
    }
   ],
   "source": [
    "X_train"
   ]
  },
  {
   "cell_type": "code",
   "execution_count": 15,
   "id": "186891f0-aba1-492a-a7c2-9fbe05b49019",
   "metadata": {},
   "outputs": [
    {
     "name": "stderr",
     "output_type": "stream",
     "text": [
      "2023-09-15 17:09:29.064457: I tensorflow/core/platform/cpu_feature_guard.cc:182] This TensorFlow binary is optimized to use available CPU instructions in performance-critical operations.\n",
      "To enable the following instructions: AVX2 FMA, in other operations, rebuild TensorFlow with the appropriate compiler flags.\n",
      "2023-09-15 17:09:34.330980: W tensorflow/compiler/tf2tensorrt/utils/py_utils.cc:38] TF-TRT Warning: Could not find TensorRT\n"
     ]
    }
   ],
   "source": [
    "import tensorflow as tf\n",
    "from tensorflow.keras import layers, Sequential"
   ]
  },
  {
   "cell_type": "code",
   "execution_count": 16,
   "id": "ad1df78f-e5b5-45dc-a97d-31660086eec6",
   "metadata": {},
   "outputs": [],
   "source": [
    "def build_model():\n",
    "    model= Sequential()\n",
    "\n",
    "    model.add(layers.Dense(128, activation='relu'))\n",
    "    model.add(layers.Dense(128, activation='relu'))\n",
    "    model.add(layers.Dense(64, activation='relu'))\n",
    "    model.add(layers.Dense(1, activation='sigmoid'))\n",
    "\n",
    "    model.compile(loss='binary_crossentropy', optimizer='adam', metrics=['accuracy'])\n",
    "\n",
    "    return model"
   ]
  },
  {
   "cell_type": "code",
   "execution_count": 17,
   "id": "a23fe003-b7b5-4f9a-a4c4-3dd9e5365adf",
   "metadata": {},
   "outputs": [
    {
     "name": "stderr",
     "output_type": "stream",
     "text": [
      "2023-09-15 17:09:40.299087: I tensorflow/compiler/xla/stream_executor/cuda/cuda_gpu_executor.cc:995] successful NUMA node read from SysFS had negative value (-1), but there must be at least one NUMA node, so returning NUMA node zero. See more at https://github.com/torvalds/linux/blob/v6.0/Documentation/ABI/testing/sysfs-bus-pci#L344-L355\n",
      "2023-09-15 17:09:40.436145: W tensorflow/core/common_runtime/gpu/gpu_device.cc:1960] Cannot dlopen some GPU libraries. Please make sure the missing libraries mentioned above are installed properly if you would like to use GPU. Follow the guide at https://www.tensorflow.org/install/gpu for how to download and setup the required libraries for your platform.\n",
      "Skipping registering GPU devices...\n"
     ]
    }
   ],
   "source": [
    "model = build_model()"
   ]
  },
  {
   "cell_type": "code",
   "execution_count": 18,
   "id": "cc087c4e-857d-4a7c-9c5d-17bd10ded141",
   "metadata": {},
   "outputs": [
    {
     "name": "stdout",
     "output_type": "stream",
     "text": [
      "Epoch 1/25\n",
      "240/240 [==============================] - 3s 5ms/step - loss: 0.5439 - accuracy: 0.7259 - val_loss: 0.5222 - val_accuracy: 0.7385\n",
      "Epoch 2/25\n",
      "240/240 [==============================] - 1s 5ms/step - loss: 0.5063 - accuracy: 0.7462 - val_loss: 0.5133 - val_accuracy: 0.7453\n",
      "Epoch 3/25\n",
      "240/240 [==============================] - 1s 4ms/step - loss: 0.4966 - accuracy: 0.7531 - val_loss: 0.5199 - val_accuracy: 0.7380\n",
      "Epoch 4/25\n",
      "240/240 [==============================] - 1s 4ms/step - loss: 0.4916 - accuracy: 0.7526 - val_loss: 0.5130 - val_accuracy: 0.7401\n",
      "Epoch 5/25\n",
      "240/240 [==============================] - 1s 4ms/step - loss: 0.4895 - accuracy: 0.7553 - val_loss: 0.5442 - val_accuracy: 0.7141\n",
      "Epoch 6/25\n",
      "240/240 [==============================] - 1s 3ms/step - loss: 0.4830 - accuracy: 0.7559 - val_loss: 0.5093 - val_accuracy: 0.7484\n",
      "Epoch 7/25\n",
      "240/240 [==============================] - 1s 4ms/step - loss: 0.4784 - accuracy: 0.7609 - val_loss: 0.5068 - val_accuracy: 0.7422\n",
      "Epoch 8/25\n",
      "240/240 [==============================] - 1s 4ms/step - loss: 0.4735 - accuracy: 0.7620 - val_loss: 0.5161 - val_accuracy: 0.7427\n",
      "Epoch 9/25\n",
      "240/240 [==============================] - 1s 4ms/step - loss: 0.4689 - accuracy: 0.7672 - val_loss: 0.5056 - val_accuracy: 0.7406\n",
      "Epoch 10/25\n",
      "240/240 [==============================] - 1s 3ms/step - loss: 0.4651 - accuracy: 0.7704 - val_loss: 0.5126 - val_accuracy: 0.7396\n",
      "Epoch 11/25\n",
      "240/240 [==============================] - 1s 4ms/step - loss: 0.4611 - accuracy: 0.7712 - val_loss: 0.5307 - val_accuracy: 0.7339\n",
      "Epoch 12/25\n",
      "240/240 [==============================] - 1s 3ms/step - loss: 0.4590 - accuracy: 0.7733 - val_loss: 0.5121 - val_accuracy: 0.7385\n",
      "Epoch 13/25\n",
      "240/240 [==============================] - 1s 4ms/step - loss: 0.4494 - accuracy: 0.7757 - val_loss: 0.5281 - val_accuracy: 0.7370\n",
      "Epoch 14/25\n",
      "240/240 [==============================] - 1s 3ms/step - loss: 0.4472 - accuracy: 0.7762 - val_loss: 0.5227 - val_accuracy: 0.7401\n",
      "Epoch 15/25\n",
      "240/240 [==============================] - 1s 3ms/step - loss: 0.4416 - accuracy: 0.7798 - val_loss: 0.5358 - val_accuracy: 0.7250\n",
      "Epoch 16/25\n",
      "240/240 [==============================] - 1s 4ms/step - loss: 0.4370 - accuracy: 0.7816 - val_loss: 0.5285 - val_accuracy: 0.7406\n",
      "Epoch 17/25\n",
      "240/240 [==============================] - 1s 3ms/step - loss: 0.4324 - accuracy: 0.7865 - val_loss: 0.5410 - val_accuracy: 0.7339\n",
      "Epoch 18/25\n",
      "240/240 [==============================] - 1s 3ms/step - loss: 0.4250 - accuracy: 0.7922 - val_loss: 0.5394 - val_accuracy: 0.7359\n",
      "Epoch 19/25\n",
      "240/240 [==============================] - 1s 3ms/step - loss: 0.4233 - accuracy: 0.7900 - val_loss: 0.5398 - val_accuracy: 0.7328\n",
      "Epoch 20/25\n",
      "240/240 [==============================] - 1s 3ms/step - loss: 0.4190 - accuracy: 0.7960 - val_loss: 0.5500 - val_accuracy: 0.7354\n",
      "Epoch 21/25\n",
      "240/240 [==============================] - 1s 3ms/step - loss: 0.4125 - accuracy: 0.7974 - val_loss: 0.5886 - val_accuracy: 0.7250\n",
      "Epoch 22/25\n",
      "240/240 [==============================] - 1s 3ms/step - loss: 0.4010 - accuracy: 0.8049 - val_loss: 0.5574 - val_accuracy: 0.7344\n",
      "Epoch 23/25\n",
      "240/240 [==============================] - 1s 3ms/step - loss: 0.3981 - accuracy: 0.8086 - val_loss: 0.5751 - val_accuracy: 0.7198\n",
      "Epoch 24/25\n",
      "240/240 [==============================] - 1s 3ms/step - loss: 0.3924 - accuracy: 0.8135 - val_loss: 0.5899 - val_accuracy: 0.7354\n",
      "Epoch 25/25\n",
      "240/240 [==============================] - 1s 3ms/step - loss: 0.3892 - accuracy: 0.8102 - val_loss: 0.5971 - val_accuracy: 0.7339\n"
     ]
    }
   ],
   "source": [
    "history = model.fit(np.asarray(X_train), np.asarray(y_train), epochs=25, validation_split=.2)"
   ]
  },
  {
   "cell_type": "code",
   "execution_count": 19,
   "id": "db0f79bb-c4f1-4422-bac2-1101e2766941",
   "metadata": {},
   "outputs": [
    {
     "data": {
      "image/png": "[encoded data removed]",
      "text/plain": [
       "<Figure size 640x480 with 1 Axes>"
      ]
     },
     "metadata": {},
     "output_type": "display_data"
    }
   ],
   "source": [
    "import keras\n",
    "from matplotlib import pyplot as plt\n",
    "plt.plot(history.history['accuracy'])\n",
    "plt.plot(history.history['val_accuracy'])\n",
    "plt.title('model accuracy')\n",
    "plt.ylabel('accuracy')\n",
    "plt.xlabel('epoch')\n",
    "plt.legend(['train', 'val'], loc='upper left')\n",
    "plt.show()"
   ]
  },
  {
   "cell_type": "code",
   "execution_count": 20,
   "id": "02ef4db3-e3d9-45c1-8306-6336c4395466",
   "metadata": {},
   "outputs": [
    {
     "data": {
      "image/png": "[encoded data removed]",
      "text/plain": [
       "<Figure size 640x480 with 1 Axes>"
      ]
     },
     "metadata": {},
     "output_type": "display_data"
    }
   ],
   "source": [
    "import keras\n",
    "from matplotlib import pyplot as plt\n",
    "plt.plot(history.history['loss'])\n",
    "plt.plot(history.history['val_loss'])\n",
    "plt.title('model loss')\n",
    "plt.ylabel('loss')\n",
    "plt.xlabel('epoch')\n",
    "plt.legend(['train', 'val'], loc='upper left')\n",
    "plt.show()"
   ]
  },
  {
   "cell_type": "code",
   "execution_count": 21,
   "id": "02290ac3-85dc-4812-bd82-7d931ed54d2a",
   "metadata": {},
   "outputs": [
    {
     "name": "stdout",
     "output_type": "stream",
     "text": [
      "75/75 [==============================] - 0s 2ms/step - loss: 0.5978 - accuracy: 0.7387\n"
     ]
    },
    {
     "data": {
      "text/plain": [
       "[0.5977577567100525, 0.7387499809265137]"
      ]
     },
     "execution_count": 21,
     "metadata": {},
     "output_type": "execute_result"
    }
   ],
   "source": [
    "model.evaluate(X_test, y_test)"
   ]
  },
  {
   "cell_type": "code",
   "execution_count": 22,
   "id": "66990a6a-766c-44d4-a27f-d565f092bb11",
   "metadata": {},
   "outputs": [
    {
     "name": "stdout",
     "output_type": "stream",
     "text": [
      "75/75 [==============================] - 0s 2ms/step\n"
     ]
    }
   ],
   "source": [
    "preds = model.predict(X_test)\n",
    "true = y_test"
   ]
  },
  {
   "cell_type": "code",
   "execution_count": 23,
   "id": "cfbec948-a30a-4302-a10f-e89983260767",
   "metadata": {},
   "outputs": [],
   "source": [
    "nn_conf_matrix = tf.math.confusion_matrix(true, preds)"
   ]
  },
  {
   "cell_type": "code",
   "execution_count": 24,
   "id": "6857c8ca-8fb2-4a55-bc63-4f335e19cef5",
   "metadata": {},
   "outputs": [],
   "source": [
    "from sklearn.linear_model import LogisticRegression"
   ]
  },
  {
   "cell_type": "code",
   "execution_count": 25,
   "id": "a8d7fb7c-6553-4de9-9693-d626b744766b",
   "metadata": {},
   "outputs": [
    {
     "data": {
      "text/html": [
       "<style>#sk-container-id-1 {color: black;}#sk-container-id-1 pre{padding: 0;}#sk-container-id-1 div.sk-toggleable {background-color: white;}#sk-container-id-1 label.sk-toggleable__label {cursor: pointer;display: block;width: 100%;margin-bottom: 0;padding: 0.3em;box-sizing: border-box;text-align: center;}#sk-container-id-1 label.sk-toggleable__label-arrow:before {content: \"▸\";float: left;margin-right: 0.25em;color: #696969;}#sk-container-id-1 label.sk-toggleable__label-arrow:hover:before {color: black;}#sk-container-id-1 div.sk-estimator:hover label.sk-toggleable__label-arrow:before {color: black;}#sk-container-id-1 div.sk-toggleable__content {max-height: 0;max-width: 0;overflow: hidden;text-align: left;background-color: #f0f8ff;}#sk-container-id-1 div.sk-toggleable__content pre {margin: 0.2em;color: black;border-radius: 0.25em;background-color: #f0f8ff;}#sk-container-id-1 input.sk-toggleable__control:checked~div.sk-toggleable__content {max-height: 200px;max-width: 100%;overflow: auto;}#sk-container-id-1 input.sk-toggleable__control:checked~label.sk-toggleable__label-arrow:before {content: \"▾\";}#sk-container-id-1 div.sk-estimator input.sk-toggleable__control:checked~label.sk-toggleable__label {background-color: #d4ebff;}#sk-container-id-1 div.sk-label input.sk-toggleable__control:checked~label.sk-toggleable__label {background-color: #d4ebff;}#sk-container-id-1 input.sk-hidden--visually {border: 0;clip: rect(1px 1px 1px 1px);clip: rect(1px, 1px, 1px, 1px);height: 1px;margin: -1px;overflow: hidden;padding: 0;position: absolute;width: 1px;}#sk-container-id-1 div.sk-estimator {font-family: monospace;background-color: #f0f8ff;border: 1px dotted black;border-radius: 0.25em;box-sizing: border-box;margin-bottom: 0.5em;}#sk-container-id-1 div.sk-estimator:hover {background-color: #d4ebff;}#sk-container-id-1 div.sk-parallel-item::after {content: \"\";width: 100%;border-bottom: 1px solid gray;flex-grow: 1;}#sk-container-id-1 div.sk-label:hover label.sk-toggleable__label {background-color: #d4ebff;}#sk-container-id-1 div.sk-serial::before {content: \"\";position: absolute;border-left: 1px solid gray;box-sizing: border-box;top: 0;bottom: 0;left: 50%;z-index: 0;}#sk-container-id-1 div.sk-serial {display: flex;flex-direction: column;align-items: center;background-color: white;padding-right: 0.2em;padding-left: 0.2em;position: relative;}#sk-container-id-1 div.sk-item {position: relative;z-index: 1;}#sk-container-id-1 div.sk-parallel {display: flex;align-items: stretch;justify-content: center;background-color: white;position: relative;}#sk-container-id-1 div.sk-item::before, #sk-container-id-1 div.sk-parallel-item::before {content: \"\";position: absolute;border-left: 1px solid gray;box-sizing: border-box;top: 0;bottom: 0;left: 50%;z-index: -1;}#sk-container-id-1 div.sk-parallel-item {display: flex;flex-direction: column;z-index: 1;position: relative;background-color: white;}#sk-container-id-1 div.sk-parallel-item:first-child::after {align-self: flex-end;width: 50%;}#sk-container-id-1 div.sk-parallel-item:last-child::after {align-self: flex-start;width: 50%;}#sk-container-id-1 div.sk-parallel-item:only-child::after {width: 0;}#sk-container-id-1 div.sk-dashed-wrapped {border: 1px dashed gray;margin: 0 0.4em 0.5em 0.4em;box-sizing: border-box;padding-bottom: 0.4em;background-color: white;}#sk-container-id-1 div.sk-label label {font-family: monospace;font-weight: bold;display: inline-block;line-height: 1.2em;}#sk-container-id-1 div.sk-label-container {text-align: center;}#sk-container-id-1 div.sk-container {/* jupyter's `normalize.less` sets `[hidden] { display: none; }` but bootstrap.min.css set `[hidden] { display: none !important; }` so we also need the `!important` here to be able to override the default hidden behavior on the sphinx rendered scikit-learn.org. See: https://github.com/scikit-learn/scikit-learn/issues/21755 */display: inline-block !important;position: relative;}#sk-container-id-1 div.sk-text-repr-fallback {display: none;}</style><div id=\"sk-container-id-1\" class=\"sk-top-container\"><div class=\"sk-text-repr-fallback\"><pre>LogisticRegression()</pre><b>In a Jupyter environment, please rerun this cell to show the HTML representation or trust the notebook. <br />On GitHub, the HTML representation is unable to render, please try loading this page with nbviewer.org.</b></div><div class=\"sk-container\" hidden><div class=\"sk-item\"><div class=\"sk-estimator sk-toggleable\"><input class=\"sk-toggleable__control sk-hidden--visually\" id=\"sk-estimator-id-1\" type=\"checkbox\" checked><label for=\"sk-estimator-id-1\" class=\"sk-toggleable__label sk-toggleable__label-arrow\">LogisticRegression</label><div class=\"sk-toggleable__content\"><pre>LogisticRegression()</pre></div></div></div></div></div>"
      ],
      "text/plain": [
       "LogisticRegression()"
      ]
     },
     "execution_count": 25,
     "metadata": {},
     "output_type": "execute_result"
    }
   ],
   "source": [
    "lr = LogisticRegression()\n",
    "\n",
    "lr.fit(X_train, y_train)"
   ]
  },
  {
   "cell_type": "code",
   "execution_count": 26,
   "id": "2d23605d-db6e-457c-b894-f5e50f6b690c",
   "metadata": {},
   "outputs": [],
   "source": [
    "preds = lr.predict(X_test)"
   ]
  },
  {
   "cell_type": "code",
   "execution_count": 27,
   "id": "75b9b5c9-5231-40a8-99ea-b3bd9da6f502",
   "metadata": {},
   "outputs": [],
   "source": [
    "lr_conf_matrix = tf.math.confusion_matrix(true, preds)"
   ]
  },
  {
   "cell_type": "code",
   "execution_count": 28,
   "id": "7c2dd8e5-8598-4faf-a957-541a35d22b92",
   "metadata": {},
   "outputs": [],
   "source": [
    "from sklearn.linear_model import SGDClassifier"
   ]
  },
  {
   "cell_type": "code",
   "execution_count": 29,
   "id": "c2c0586d-4718-4f1d-a7a4-ccd951188717",
   "metadata": {},
   "outputs": [
    {
     "data": {
      "text/html": [
       "<style>#sk-container-id-2 {color: black;}#sk-container-id-2 pre{padding: 0;}#sk-container-id-2 div.sk-toggleable {background-color: white;}#sk-container-id-2 label.sk-toggleable__label {cursor: pointer;display: block;width: 100%;margin-bottom: 0;padding: 0.3em;box-sizing: border-box;text-align: center;}#sk-container-id-2 label.sk-toggleable__label-arrow:before {content: \"▸\";float: left;margin-right: 0.25em;color: #696969;}#sk-container-id-2 label.sk-toggleable__label-arrow:hover:before {color: black;}#sk-container-id-2 div.sk-estimator:hover label.sk-toggleable__label-arrow:before {color: black;}#sk-container-id-2 div.sk-toggleable__content {max-height: 0;max-width: 0;overflow: hidden;text-align: left;background-color: #f0f8ff;}#sk-container-id-2 div.sk-toggleable__content pre {margin: 0.2em;color: black;border-radius: 0.25em;background-color: #f0f8ff;}#sk-container-id-2 input.sk-toggleable__control:checked~div.sk-toggleable__content {max-height: 200px;max-width: 100%;overflow: auto;}#sk-container-id-2 input.sk-toggleable__control:checked~label.sk-toggleable__label-arrow:before {content: \"▾\";}#sk-container-id-2 div.sk-estimator input.sk-toggleable__control:checked~label.sk-toggleable__label {background-color: #d4ebff;}#sk-container-id-2 div.sk-label input.sk-toggleable__control:checked~label.sk-toggleable__label {background-color: #d4ebff;}#sk-container-id-2 input.sk-hidden--visually {border: 0;clip: rect(1px 1px 1px 1px);clip: rect(1px, 1px, 1px, 1px);height: 1px;margin: -1px;overflow: hidden;padding: 0;position: absolute;width: 1px;}#sk-container-id-2 div.sk-estimator {font-family: monospace;background-color: #f0f8ff;border: 1px dotted black;border-radius: 0.25em;box-sizing: border-box;margin-bottom: 0.5em;}#sk-container-id-2 div.sk-estimator:hover {background-color: #d4ebff;}#sk-container-id-2 div.sk-parallel-item::after {content: \"\";width: 100%;border-bottom: 1px solid gray;flex-grow: 1;}#sk-container-id-2 div.sk-label:hover label.sk-toggleable__label {background-color: #d4ebff;}#sk-container-id-2 div.sk-serial::before {content: \"\";position: absolute;border-left: 1px solid gray;box-sizing: border-box;top: 0;bottom: 0;left: 50%;z-index: 0;}#sk-container-id-2 div.sk-serial {display: flex;flex-direction: column;align-items: center;background-color: white;padding-right: 0.2em;padding-left: 0.2em;position: relative;}#sk-container-id-2 div.sk-item {position: relative;z-index: 1;}#sk-container-id-2 div.sk-parallel {display: flex;align-items: stretch;justify-content: center;background-color: white;position: relative;}#sk-container-id-2 div.sk-item::before, #sk-container-id-2 div.sk-parallel-item::before {content: \"\";position: absolute;border-left: 1px solid gray;box-sizing: border-box;top: 0;bottom: 0;left: 50%;z-index: -1;}#sk-container-id-2 div.sk-parallel-item {display: flex;flex-direction: column;z-index: 1;position: relative;background-color: white;}#sk-container-id-2 div.sk-parallel-item:first-child::after {align-self: flex-end;width: 50%;}#sk-container-id-2 div.sk-parallel-item:last-child::after {align-self: flex-start;width: 50%;}#sk-container-id-2 div.sk-parallel-item:only-child::after {width: 0;}#sk-container-id-2 div.sk-dashed-wrapped {border: 1px dashed gray;margin: 0 0.4em 0.5em 0.4em;box-sizing: border-box;padding-bottom: 0.4em;background-color: white;}#sk-container-id-2 div.sk-label label {font-family: monospace;font-weight: bold;display: inline-block;line-height: 1.2em;}#sk-container-id-2 div.sk-label-container {text-align: center;}#sk-container-id-2 div.sk-container {/* jupyter's `normalize.less` sets `[hidden] { display: none; }` but bootstrap.min.css set `[hidden] { display: none !important; }` so we also need the `!important` here to be able to override the default hidden behavior on the sphinx rendered scikit-learn.org. See: https://github.com/scikit-learn/scikit-learn/issues/21755 */display: inline-block !important;position: relative;}#sk-container-id-2 div.sk-text-repr-fallback {display: none;}</style><div id=\"sk-container-id-2\" class=\"sk-top-container\"><div class=\"sk-text-repr-fallback\"><pre>SGDClassifier()</pre><b>In a Jupyter environment, please rerun this cell to show the HTML representation or trust the notebook. <br />On GitHub, the HTML representation is unable to render, please try loading this page with nbviewer.org.</b></div><div class=\"sk-container\" hidden><div class=\"sk-item\"><div class=\"sk-estimator sk-toggleable\"><input class=\"sk-toggleable__control sk-hidden--visually\" id=\"sk-estimator-id-2\" type=\"checkbox\" checked><label for=\"sk-estimator-id-2\" class=\"sk-toggleable__label sk-toggleable__label-arrow\">SGDClassifier</label><div class=\"sk-toggleable__content\"><pre>SGDClassifier()</pre></div></div></div></div></div>"
      ],
      "text/plain": [
       "SGDClassifier()"
      ]
     },
     "execution_count": 29,
     "metadata": {},
     "output_type": "execute_result"
    }
   ],
   "source": [
    "sgd = SGDClassifier()\n",
    "\n",
    "sgd.fit(np.asarray(X_train), y_train)"
   ]
  },
  {
   "cell_type": "code",
   "execution_count": 30,
   "id": "25cbd91c-5c26-48ac-a37f-39b37e94735f",
   "metadata": {},
   "outputs": [
    {
     "name": "stderr",
     "output_type": "stream",
     "text": [
      "/home/abdelrahman/env/lib/python3.10/site-packages/sklearn/base.py:457: UserWarning: X has feature names, but SGDClassifier was fitted without feature names\n",
      "  warnings.warn(\n"
     ]
    }
   ],
   "source": [
    "preds = sgd.predict(X_test)"
   ]
  },
  {
   "cell_type": "code",
   "execution_count": 31,
   "id": "9545a70b-190e-4f1f-b503-57015dac4eee",
   "metadata": {},
   "outputs": [],
   "source": [
    "sgd_conf_matrix = tf.math.confusion_matrix(true, preds)"
   ]
  },
  {
   "cell_type": "code",
   "execution_count": 32,
   "id": "512eb4ce-7a84-4e9d-8ae8-15b02a41390f",
   "metadata": {},
   "outputs": [],
   "source": [
    "from sklearn.linear_model import RidgeClassifier"
   ]
  },
  {
   "cell_type": "code",
   "execution_count": 33,
   "id": "1791e814-7ad3-4bbc-825c-e7ff17613b87",
   "metadata": {},
   "outputs": [
    {
     "data": {
      "text/html": [
       "<style>#sk-container-id-3 {color: black;}#sk-container-id-3 pre{padding: 0;}#sk-container-id-3 div.sk-toggleable {background-color: white;}#sk-container-id-3 label.sk-toggleable__label {cursor: pointer;display: block;width: 100%;margin-bottom: 0;padding: 0.3em;box-sizing: border-box;text-align: center;}#sk-container-id-3 label.sk-toggleable__label-arrow:before {content: \"▸\";float: left;margin-right: 0.25em;color: #696969;}#sk-container-id-3 label.sk-toggleable__label-arrow:hover:before {color: black;}#sk-container-id-3 div.sk-estimator:hover label.sk-toggleable__label-arrow:before {color: black;}#sk-container-id-3 div.sk-toggleable__content {max-height: 0;max-width: 0;overflow: hidden;text-align: left;background-color: #f0f8ff;}#sk-container-id-3 div.sk-toggleable__content pre {margin: 0.2em;color: black;border-radius: 0.25em;background-color: #f0f8ff;}#sk-container-id-3 input.sk-toggleable__control:checked~div.sk-toggleable__content {max-height: 200px;max-width: 100%;overflow: auto;}#sk-container-id-3 input.sk-toggleable__control:checked~label.sk-toggleable__label-arrow:before {content: \"▾\";}#sk-container-id-3 div.sk-estimator input.sk-toggleable__control:checked~label.sk-toggleable__label {background-color: #d4ebff;}#sk-container-id-3 div.sk-label input.sk-toggleable__control:checked~label.sk-toggleable__label {background-color: #d4ebff;}#sk-container-id-3 input.sk-hidden--visually {border: 0;clip: rect(1px 1px 1px 1px);clip: rect(1px, 1px, 1px, 1px);height: 1px;margin: -1px;overflow: hidden;padding: 0;position: absolute;width: 1px;}#sk-container-id-3 div.sk-estimator {font-family: monospace;background-color: #f0f8ff;border: 1px dotted black;border-radius: 0.25em;box-sizing: border-box;margin-bottom: 0.5em;}#sk-container-id-3 div.sk-estimator:hover {background-color: #d4ebff;}#sk-container-id-3 div.sk-parallel-item::after {content: \"\";width: 100%;border-bottom: 1px solid gray;flex-grow: 1;}#sk-container-id-3 div.sk-label:hover label.sk-toggleable__label {background-color: #d4ebff;}#sk-container-id-3 div.sk-serial::before {content: \"\";position: absolute;border-left: 1px solid gray;box-sizing: border-box;top: 0;bottom: 0;left: 50%;z-index: 0;}#sk-container-id-3 div.sk-serial {display: flex;flex-direction: column;align-items: center;background-color: white;padding-right: 0.2em;padding-left: 0.2em;position: relative;}#sk-container-id-3 div.sk-item {position: relative;z-index: 1;}#sk-container-id-3 div.sk-parallel {display: flex;align-items: stretch;justify-content: center;background-color: white;position: relative;}#sk-container-id-3 div.sk-item::before, #sk-container-id-3 div.sk-parallel-item::before {content: \"\";position: absolute;border-left: 1px solid gray;box-sizing: border-box;top: 0;bottom: 0;left: 50%;z-index: -1;}#sk-container-id-3 div.sk-parallel-item {display: flex;flex-direction: column;z-index: 1;position: relative;background-color: white;}#sk-container-id-3 div.sk-parallel-item:first-child::after {align-self: flex-end;width: 50%;}#sk-container-id-3 div.sk-parallel-item:last-child::after {align-self: flex-start;width: 50%;}#sk-container-id-3 div.sk-parallel-item:only-child::after {width: 0;}#sk-container-id-3 div.sk-dashed-wrapped {border: 1px dashed gray;margin: 0 0.4em 0.5em 0.4em;box-sizing: border-box;padding-bottom: 0.4em;background-color: white;}#sk-container-id-3 div.sk-label label {font-family: monospace;font-weight: bold;display: inline-block;line-height: 1.2em;}#sk-container-id-3 div.sk-label-container {text-align: center;}#sk-container-id-3 div.sk-container {/* jupyter's `normalize.less` sets `[hidden] { display: none; }` but bootstrap.min.css set `[hidden] { display: none !important; }` so we also need the `!important` here to be able to override the default hidden behavior on the sphinx rendered scikit-learn.org. See: https://github.com/scikit-learn/scikit-learn/issues/21755 */display: inline-block !important;position: relative;}#sk-container-id-3 div.sk-text-repr-fallback {display: none;}</style><div id=\"sk-container-id-3\" class=\"sk-top-container\"><div class=\"sk-text-repr-fallback\"><pre>RidgeClassifier()</pre><b>In a Jupyter environment, please rerun this cell to show the HTML representation or trust the notebook. <br />On GitHub, the HTML representation is unable to render, please try loading this page with nbviewer.org.</b></div><div class=\"sk-container\" hidden><div class=\"sk-item\"><div class=\"sk-estimator sk-toggleable\"><input class=\"sk-toggleable__control sk-hidden--visually\" id=\"sk-estimator-id-3\" type=\"checkbox\" checked><label for=\"sk-estimator-id-3\" class=\"sk-toggleable__label sk-toggleable__label-arrow\">RidgeClassifier</label><div class=\"sk-toggleable__content\"><pre>RidgeClassifier()</pre></div></div></div></div></div>"
      ],
      "text/plain": [
       "RidgeClassifier()"
      ]
     },
     "execution_count": 33,
     "metadata": {},
     "output_type": "execute_result"
    }
   ],
   "source": [
    "ridge = RidgeClassifier()\n",
    "\n",
    "ridge.fit(X_train, y_train)"
   ]
  },
  {
   "cell_type": "code",
   "execution_count": 34,
   "id": "146f422c-5ea5-417b-adf0-eb166b159df4",
   "metadata": {},
   "outputs": [],
   "source": [
    "preds = ridge.predict(X_test)"
   ]
  },
  {
   "cell_type": "code",
   "execution_count": 35,
   "id": "22f6b87b-ff35-498a-910a-b1843150c4f0",
   "metadata": {},
   "outputs": [],
   "source": [
    "ridge_conf_matrix = tf.math.confusion_matrix(true, preds)"
   ]
  },
  {
   "cell_type": "code",
   "execution_count": 36,
   "id": "70a22ed0-503e-44d4-b354-82673bb27e12",
   "metadata": {},
   "outputs": [],
   "source": [
    "from sklearn.ensemble import RandomForestClassifier"
   ]
  },
  {
   "cell_type": "code",
   "execution_count": 37,
   "id": "5b6d630e-8678-45fb-a803-db00da40c955",
   "metadata": {},
   "outputs": [
    {
     "data": {
      "text/html": [
       "<style>#sk-container-id-4 {color: black;}#sk-container-id-4 pre{padding: 0;}#sk-container-id-4 div.sk-toggleable {background-color: white;}#sk-container-id-4 label.sk-toggleable__label {cursor: pointer;display: block;width: 100%;margin-bottom: 0;padding: 0.3em;box-sizing: border-box;text-align: center;}#sk-container-id-4 label.sk-toggleable__label-arrow:before {content: \"▸\";float: left;margin-right: 0.25em;color: #696969;}#sk-container-id-4 label.sk-toggleable__label-arrow:hover:before {color: black;}#sk-container-id-4 div.sk-estimator:hover label.sk-toggleable__label-arrow:before {color: black;}#sk-container-id-4 div.sk-toggleable__content {max-height: 0;max-width: 0;overflow: hidden;text-align: left;background-color: #f0f8ff;}#sk-container-id-4 div.sk-toggleable__content pre {margin: 0.2em;color: black;border-radius: 0.25em;background-color: #f0f8ff;}#sk-container-id-4 input.sk-toggleable__control:checked~div.sk-toggleable__content {max-height: 200px;max-width: 100%;overflow: auto;}#sk-container-id-4 input.sk-toggleable__control:checked~label.sk-toggleable__label-arrow:before {content: \"▾\";}#sk-container-id-4 div.sk-estimator input.sk-toggleable__control:checked~label.sk-toggleable__label {background-color: #d4ebff;}#sk-container-id-4 div.sk-label input.sk-toggleable__control:checked~label.sk-toggleable__label {background-color: #d4ebff;}#sk-container-id-4 input.sk-hidden--visually {border: 0;clip: rect(1px 1px 1px 1px);clip: rect(1px, 1px, 1px, 1px);height: 1px;margin: -1px;overflow: hidden;padding: 0;position: absolute;width: 1px;}#sk-container-id-4 div.sk-estimator {font-family: monospace;background-color: #f0f8ff;border: 1px dotted black;border-radius: 0.25em;box-sizing: border-box;margin-bottom: 0.5em;}#sk-container-id-4 div.sk-estimator:hover {background-color: #d4ebff;}#sk-container-id-4 div.sk-parallel-item::after {content: \"\";width: 100%;border-bottom: 1px solid gray;flex-grow: 1;}#sk-container-id-4 div.sk-label:hover label.sk-toggleable__label {background-color: #d4ebff;}#sk-container-id-4 div.sk-serial::before {content: \"\";position: absolute;border-left: 1px solid gray;box-sizing: border-box;top: 0;bottom: 0;left: 50%;z-index: 0;}#sk-container-id-4 div.sk-serial {display: flex;flex-direction: column;align-items: center;background-color: white;padding-right: 0.2em;padding-left: 0.2em;position: relative;}#sk-container-id-4 div.sk-item {position: relative;z-index: 1;}#sk-container-id-4 div.sk-parallel {display: flex;align-items: stretch;justify-content: center;background-color: white;position: relative;}#sk-container-id-4 div.sk-item::before, #sk-container-id-4 div.sk-parallel-item::before {content: \"\";position: absolute;border-left: 1px solid gray;box-sizing: border-box;top: 0;bottom: 0;left: 50%;z-index: -1;}#sk-container-id-4 div.sk-parallel-item {display: flex;flex-direction: column;z-index: 1;position: relative;background-color: white;}#sk-container-id-4 div.sk-parallel-item:first-child::after {align-self: flex-end;width: 50%;}#sk-container-id-4 div.sk-parallel-item:last-child::after {align-self: flex-start;width: 50%;}#sk-container-id-4 div.sk-parallel-item:only-child::after {width: 0;}#sk-container-id-4 div.sk-dashed-wrapped {border: 1px dashed gray;margin: 0 0.4em 0.5em 0.4em;box-sizing: border-box;padding-bottom: 0.4em;background-color: white;}#sk-container-id-4 div.sk-label label {font-family: monospace;font-weight: bold;display: inline-block;line-height: 1.2em;}#sk-container-id-4 div.sk-label-container {text-align: center;}#sk-container-id-4 div.sk-container {/* jupyter's `normalize.less` sets `[hidden] { display: none; }` but bootstrap.min.css set `[hidden] { display: none !important; }` so we also need the `!important` here to be able to override the default hidden behavior on the sphinx rendered scikit-learn.org. See: https://github.com/scikit-learn/scikit-learn/issues/21755 */display: inline-block !important;position: relative;}#sk-container-id-4 div.sk-text-repr-fallback {display: none;}</style><div id=\"sk-container-id-4\" class=\"sk-top-container\"><div class=\"sk-text-repr-fallback\"><pre>RandomForestClassifier()</pre><b>In a Jupyter environment, please rerun this cell to show the HTML representation or trust the notebook. <br />On GitHub, the HTML representation is unable to render, please try loading this page with nbviewer.org.</b></div><div class=\"sk-container\" hidden><div class=\"sk-item\"><div class=\"sk-estimator sk-toggleable\"><input class=\"sk-toggleable__control sk-hidden--visually\" id=\"sk-estimator-id-4\" type=\"checkbox\" checked><label for=\"sk-estimator-id-4\" class=\"sk-toggleable__label sk-toggleable__label-arrow\">RandomForestClassifier</label><div class=\"sk-toggleable__content\"><pre>RandomForestClassifier()</pre></div></div></div></div></div>"
      ],
      "text/plain": [
       "RandomForestClassifier()"
      ]
     },
     "execution_count": 37,
     "metadata": {},
     "output_type": "execute_result"
    }
   ],
   "source": [
    "rfc = RandomForestClassifier()\n",
    "\n",
    "rfc.fit(X_train, y_train)"
   ]
  },
  {
   "cell_type": "code",
   "execution_count": 38,
   "id": "556bf750-bec7-4c04-aabb-936bfe8cd66f",
   "metadata": {},
   "outputs": [],
   "source": [
    "preds = rfc.predict(X_test)"
   ]
  },
  {
   "cell_type": "code",
   "execution_count": 39,
   "id": "6bd324e3-cb88-4d58-8827-c11fe28ddc6b",
   "metadata": {},
   "outputs": [],
   "source": [
    "rfc_conf_matrix = tf.math.confusion_matrix(true, preds)"
   ]
  },
  {
   "cell_type": "code",
   "execution_count": 40,
   "id": "6d0d90c0-44a2-485b-91f1-aeca57133d60",
   "metadata": {},
   "outputs": [],
   "source": [
    "from sklearn.tree import DecisionTreeClassifier"
   ]
  },
  {
   "cell_type": "code",
   "execution_count": 41,
   "id": "3fba76e4-2298-472f-b07b-6fc906d8077c",
   "metadata": {},
   "outputs": [
    {
     "data": {
      "text/html": [
       "<style>#sk-container-id-5 {color: black;}#sk-container-id-5 pre{padding: 0;}#sk-container-id-5 div.sk-toggleable {background-color: white;}#sk-container-id-5 label.sk-toggleable__label {cursor: pointer;display: block;width: 100%;margin-bottom: 0;padding: 0.3em;box-sizing: border-box;text-align: center;}#sk-container-id-5 label.sk-toggleable__label-arrow:before {content: \"▸\";float: left;margin-right: 0.25em;color: #696969;}#sk-container-id-5 label.sk-toggleable__label-arrow:hover:before {color: black;}#sk-container-id-5 div.sk-estimator:hover label.sk-toggleable__label-arrow:before {color: black;}#sk-container-id-5 div.sk-toggleable__content {max-height: 0;max-width: 0;overflow: hidden;text-align: left;background-color: #f0f8ff;}#sk-container-id-5 div.sk-toggleable__content pre {margin: 0.2em;color: black;border-radius: 0.25em;background-color: #f0f8ff;}#sk-container-id-5 input.sk-toggleable__control:checked~div.sk-toggleable__content {max-height: 200px;max-width: 100%;overflow: auto;}#sk-container-id-5 input.sk-toggleable__control:checked~label.sk-toggleable__label-arrow:before {content: \"▾\";}#sk-container-id-5 div.sk-estimator input.sk-toggleable__control:checked~label.sk-toggleable__label {background-color: #d4ebff;}#sk-container-id-5 div.sk-label input.sk-toggleable__control:checked~label.sk-toggleable__label {background-color: #d4ebff;}#sk-container-id-5 input.sk-hidden--visually {border: 0;clip: rect(1px 1px 1px 1px);clip: rect(1px, 1px, 1px, 1px);height: 1px;margin: -1px;overflow: hidden;padding: 0;position: absolute;width: 1px;}#sk-container-id-5 div.sk-estimator {font-family: monospace;background-color: #f0f8ff;border: 1px dotted black;border-radius: 0.25em;box-sizing: border-box;margin-bottom: 0.5em;}#sk-container-id-5 div.sk-estimator:hover {background-color: #d4ebff;}#sk-container-id-5 div.sk-parallel-item::after {content: \"\";width: 100%;border-bottom: 1px solid gray;flex-grow: 1;}#sk-container-id-5 div.sk-label:hover label.sk-toggleable__label {background-color: #d4ebff;}#sk-container-id-5 div.sk-serial::before {content: \"\";position: absolute;border-left: 1px solid gray;box-sizing: border-box;top: 0;bottom: 0;left: 50%;z-index: 0;}#sk-container-id-5 div.sk-serial {display: flex;flex-direction: column;align-items: center;background-color: white;padding-right: 0.2em;padding-left: 0.2em;position: relative;}#sk-container-id-5 div.sk-item {position: relative;z-index: 1;}#sk-container-id-5 div.sk-parallel {display: flex;align-items: stretch;justify-content: center;background-color: white;position: relative;}#sk-container-id-5 div.sk-item::before, #sk-container-id-5 div.sk-parallel-item::before {content: \"\";position: absolute;border-left: 1px solid gray;box-sizing: border-box;top: 0;bottom: 0;left: 50%;z-index: -1;}#sk-container-id-5 div.sk-parallel-item {display: flex;flex-direction: column;z-index: 1;position: relative;background-color: white;}#sk-container-id-5 div.sk-parallel-item:first-child::after {align-self: flex-end;width: 50%;}#sk-container-id-5 div.sk-parallel-item:last-child::after {align-self: flex-start;width: 50%;}#sk-container-id-5 div.sk-parallel-item:only-child::after {width: 0;}#sk-container-id-5 div.sk-dashed-wrapped {border: 1px dashed gray;margin: 0 0.4em 0.5em 0.4em;box-sizing: border-box;padding-bottom: 0.4em;background-color: white;}#sk-container-id-5 div.sk-label label {font-family: monospace;font-weight: bold;display: inline-block;line-height: 1.2em;}#sk-container-id-5 div.sk-label-container {text-align: center;}#sk-container-id-5 div.sk-container {/* jupyter's `normalize.less` sets `[hidden] { display: none; }` but bootstrap.min.css set `[hidden] { display: none !important; }` so we also need the `!important` here to be able to override the default hidden behavior on the sphinx rendered scikit-learn.org. See: https://github.com/scikit-learn/scikit-learn/issues/21755 */display: inline-block !important;position: relative;}#sk-container-id-5 div.sk-text-repr-fallback {display: none;}</style><div id=\"sk-container-id-5\" class=\"sk-top-container\"><div class=\"sk-text-repr-fallback\"><pre>DecisionTreeClassifier()</pre><b>In a Jupyter environment, please rerun this cell to show the HTML representation or trust the notebook. <br />On GitHub, the HTML representation is unable to render, please try loading this page with nbviewer.org.</b></div><div class=\"sk-container\" hidden><div class=\"sk-item\"><div class=\"sk-estimator sk-toggleable\"><input class=\"sk-toggleable__control sk-hidden--visually\" id=\"sk-estimator-id-5\" type=\"checkbox\" checked><label for=\"sk-estimator-id-5\" class=\"sk-toggleable__label sk-toggleable__label-arrow\">DecisionTreeClassifier</label><div class=\"sk-toggleable__content\"><pre>DecisionTreeClassifier()</pre></div></div></div></div></div>"
      ],
      "text/plain": [
       "DecisionTreeClassifier()"
      ]
     },
     "execution_count": 41,
     "metadata": {},
     "output_type": "execute_result"
    }
   ],
   "source": [
    "dtc = DecisionTreeClassifier()\n",
    "\n",
    "dtc.fit(X_train, y_train)"
   ]
  },
  {
   "cell_type": "code",
   "execution_count": 42,
   "id": "bb7e0d01-4b68-4c10-82ad-d26cb6930de5",
   "metadata": {},
   "outputs": [],
   "source": [
    "preds = dtc.predict(X_test)"
   ]
  },
  {
   "cell_type": "code",
   "execution_count": 43,
   "id": "c4c4d2ff-eea8-4db1-837f-046c5107b79c",
   "metadata": {},
   "outputs": [],
   "source": [
    "dtc_conf_matrix = tf.math.confusion_matrix(true, preds)"
   ]
  },
  {
   "cell_type": "code",
   "execution_count": 44,
   "id": "e2f7bdda-7df1-4214-956d-ea7b0b925ca9",
   "metadata": {},
   "outputs": [],
   "source": [
    "from sklearn.metrics import  auc\n",
    "def precision_recall_calculations(conf_matrix):\n",
    "    tp = conf_matrix[0][0]\n",
    "    fp = conf_matrix[0][1]\n",
    "    fn = conf_matrix[1][0]\n",
    "    tn = conf_matrix[1][1]\n",
    "\n",
    "    precision = tp / (tp+fp)\n",
    "    recall = tp / (tp+fn)\n",
    "    fpr = fp / (fp+tn)\n",
    "\n",
    "    f1_score = (precision * recall) / (precision + recall)\n",
    "    roc = (1 - (recall - fpr))\n",
    "\n",
    "    return precision, recall, f1_score, roc"
   ]
  },
  {
   "cell_type": "code",
   "execution_count": 45,
   "id": "11457a01-d11d-4371-9f36-9589d5484d16",
   "metadata": {},
   "outputs": [],
   "source": [
    "p_nn, r_nn, f1_nn , auc_nn = precision_recall_calculations(nn_conf_matrix)\n",
    "p_lr, r_lr, f1_lr, auc_lr = precision_recall_calculations(lr_conf_matrix)\n",
    "p_sgd, r_sgd, f1_sgd, auc_sgd = precision_recall_calculations(sgd_conf_matrix)\n",
    "p_ridge, r_ridge, f1_ridge, auc_ridge = precision_recall_calculations(ridge_conf_matrix)\n",
    "p_rfc, r_rfc, f1_rfc, auc_rfc = precision_recall_calculations(rfc_conf_matrix)\n",
    "p_dtc, r_dtc, f1_dtc, auc_dtc = precision_recall_calculations(dtc_conf_matrix)"
   ]
  },
  {
   "cell_type": "code",
   "execution_count": 46,
   "id": "d2411d3d-752a-4890-b57d-7b952573452c",
   "metadata": {},
   "outputs": [
    {
     "name": "stdout",
     "output_type": "stream",
     "text": [
      "\t\t\tComparison Between Models\t\t\n",
      "\t\t\tPrecision\tRecall\t\tF1Score\t\tROC-AUC\n",
      "Neural Network: \t1.0 \t\t0.52\t\t0.34\t\t0.59\n",
      "Dicision Tree: \t\t0.68 \t\t0.71\t\t0.35\t\t0.5\n",
      "Logistic Regression: \t0.74 \t\t0.76\t\t0.38\t\t0.5\n",
      "Random Forest: \t\t0.76 \t\t0.78\t\t0.38\t\t0.51\n",
      "SGD Classifier: \t0.75 \t\t0.76\t\t0.38\t\t0.47\n",
      "Ridge Classifier: \t0.75 \t\t0.76\t\t0.38\t\t0.62\n"
     ]
    }
   ],
   "source": [
    "print(\"\\t\\t\\tComparison Between Models\\t\\t\")\n",
    "print(\"\\t\\t\\tPrecision\\tRecall\\t\\tF1Score\\t\\tROC-AUC\")\n",
    "print(f\"Neural Network: \\t{round(float(p_nn),2)} \\t\\t{round(float(r_nn),2)}\\t\\t{round(float(f1_nn),2)}\\t\\t{round(float(auc_nn), 2)}\")\n",
    "print(f\"Dicision Tree: \\t\\t{round(float(p_dtc),2)} \\t\\t{round(float(r_dtc),2)}\\t\\t{round(float(f1_dtc),2)}\\t\\t{round(float(auc_lr), 2)}\")\n",
    "print(f\"Logistic Regression: \\t{round(float(p_lr),2)} \\t\\t{round(float(r_lr),2)}\\t\\t{round(float(f1_lr),2)}\\t\\t{round(float(auc_sgd), 2)}\")\n",
    "print(f\"Random Forest: \\t\\t{round(float(p_rfc),2)} \\t\\t{round(float(r_rfc),2)}\\t\\t{round(float(f1_rfc),2)}\\t\\t{round(float(auc_ridge), 2)}\")\n",
    "print(f\"SGD Classifier: \\t{round(float(p_sgd),2)} \\t\\t{round(float(r_sgd),2)}\\t\\t{round(float(f1_sgd),2)}\\t\\t{round(float(auc_rfc), 2)}\")\n",
    "print(f\"Ridge Classifier: \\t{round(float(p_ridge),2)} \\t\\t{round(float(r_ridge),2)}\\t\\t{round(float(f1_ridge),2)}\\t\\t{round(float(auc_dtc), 2)}\")"
   ]
  },
  {
   "cell_type": "code",
   "execution_count": 66,
   "id": "b99425a6-d9ed-451a-a311-e9b414209660",
   "metadata": {},
   "outputs": [
    {
     "data": {
      "text/plain": [
       "1800.0"
      ]
     },
     "execution_count": 66,
     "metadata": {},
     "output_type": "execute_result"
    }
   ],
   "source": [
    "len(X_test) * .75"
   ]
  },
  {
   "cell_type": "code",
   "execution_count": 61,
   "id": "90add76e-0135-4b2a-9121-3df254d092ca",
   "metadata": {},
   "outputs": [],
   "source": [
    "sample = X_test.iloc[2]\n",
    "true = y_test.iloc[2]"
   ]
  },
  {
   "cell_type": "code",
   "execution_count": 62,
   "id": "fdac0904-a1bd-43c1-8d48-6f2460e0899e",
   "metadata": {},
   "outputs": [
    {
     "name": "stdout",
     "output_type": "stream",
     "text": [
      "sex          1.000000\n",
      "inout        1.000000\n",
      "transt       0.000000\n",
      "age          0.722222\n",
      "dischdest    0.000000\n",
      "anesthes     0.000000\n",
      "surgspec     0.222222\n",
      "electsurg    1.000000\n",
      "height       0.592593\n",
      "weight       0.277992\n",
      "diabetes     0.000000\n",
      "smoke        0.000000\n",
      "dyspnea      0.000000\n",
      "discancr     0.000000\n",
      "wndinf       0.000000\n",
      "steroid      0.000000\n",
      "wndclas      0.333333\n",
      "prsepis      0.000000\n",
      "dprna        0.000000\n",
      "dpralbum     0.000000\n",
      "dprhct       0.000000\n",
      "emergncy     0.000000\n",
      "optime       0.084396\n",
      "drenainsf    0.000000\n",
      "Name: 1548, dtype: float64\n"
     ]
    }
   ],
   "source": [
    "print(sample)"
   ]
  },
  {
   "cell_type": "code",
   "execution_count": 63,
   "id": "72fbc683-f212-4412-8493-9dc8c5c04eb3",
   "metadata": {},
   "outputs": [
    {
     "data": {
      "text/plain": [
       "0.0"
      ]
     },
     "execution_count": 63,
     "metadata": {},
     "output_type": "execute_result"
    }
   ],
   "source": [
    "true"
   ]
  },
  {
   "cell_type": "code",
   "execution_count": 64,
   "id": "8522ed51-cad1-4684-8f49-06af2e310d84",
   "metadata": {},
   "outputs": [
    {
     "name": "stderr",
     "output_type": "stream",
     "text": [
      "/home/abdelrahman/env/lib/python3.10/site-packages/sklearn/base.py:464: UserWarning: X does not have valid feature names, but RidgeClassifier was fitted with feature names\n",
      "  warnings.warn(\n"
     ]
    },
    {
     "data": {
      "text/plain": [
       "array([0.])"
      ]
     },
     "execution_count": 64,
     "metadata": {},
     "output_type": "execute_result"
    }
   ],
   "source": [
    "ridge.predict([sample])"
   ]
  },
  {
   "cell_type": "code",
   "execution_count": null,
   "id": "48ddab90-61d5-4385-8b7a-6f046dee403b",
   "metadata": {},
   "outputs": [],
   "source": []
  }
 ],
 "metadata": {
  "kernelspec": {
   "display_name": "Python 3 (ipykernel)",
   "language": "python",
   "name": "python3"
  },
  "language_info": {
   "codemirror_mode": {
    "name": "ipython",
    "version": 3
   },
   "file_extension": ".py",
   "mimetype": "text/x-python",
   "name": "python",
   "nbconvert_exporter": "python",
   "pygments_lexer": "ipython3",
   "version": "3.10.12"
  }
 },
 "nbformat": 4,
 "nbformat_minor": 5
}
